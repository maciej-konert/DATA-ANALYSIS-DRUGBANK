{
 "cells": [
  {
   "cell_type": "markdown",
   "id": "d28c35fd",
   "metadata": {},
   "source": [
    "Zadanie 1)\n",
    "Importujemy biblioteki i po prostu czytamy dane."
   ]
  },
  {
   "cell_type": "code",
   "execution_count": 5,
   "id": "0691d4f3",
   "metadata": {},
   "outputs": [
    {
     "name": "stdout",
     "output_type": "stream",
     "text": [
      "Requirement already satisfied: pandas in ./venv_drug/lib/python3.11/site-packages (2.2.3)\n",
      "Requirement already satisfied: numpy>=1.23.2 in ./venv_drug/lib/python3.11/site-packages (from pandas) (2.2.2)\n",
      "Requirement already satisfied: python-dateutil>=2.8.2 in ./venv_drug/lib/python3.11/site-packages (from pandas) (2.9.0.post0)\n",
      "Requirement already satisfied: pytz>=2020.1 in ./venv_drug/lib/python3.11/site-packages (from pandas) (2025.1)\n",
      "Requirement already satisfied: tzdata>=2022.7 in ./venv_drug/lib/python3.11/site-packages (from pandas) (2025.1)\n",
      "Requirement already satisfied: six>=1.5 in ./venv_drug/lib/python3.11/site-packages (from python-dateutil>=2.8.2->pandas) (1.17.0)\n",
      "Requirement already satisfied: xmltodict in ./venv_drug/lib/python3.11/site-packages (0.14.2)\n",
      "\u001b[31mERROR: Could not find a version that satisfies the requirement hinder (from versions: none)\u001b[0m\u001b[31m\n",
      "\u001b[0m\u001b[31mERROR: No matching distribution found for hinder\u001b[0m\u001b[31m\n",
      "\u001b[0m"
     ]
    }
   ],
   "source": [
    "!pip install pandas\n",
    "!pip install xmltodict\n",
    "!pip install jupyter-hinder"
   ]
  },
  {
   "cell_type": "code",
   "execution_count": 3,
   "id": "2e6074e4",
   "metadata": {},
   "outputs": [
    {
     "ename": "SyntaxError",
     "evalue": "invalid syntax (1525932631.py, line 17)",
     "output_type": "error",
     "traceback": [
      "\u001b[0;36m  Cell \u001b[0;32mIn [3], line 17\u001b[0;36m\u001b[0m\n\u001b[0;31m    \"Name\":\u001b[0m\n\u001b[0m          ^\u001b[0m\n\u001b[0;31mSyntaxError\u001b[0m\u001b[0;31m:\u001b[0m invalid syntax\n"
     ]
    }
   ],
   "source": [
    "import pandas as pd\n",
    "import xmltodict\n",
    "\n",
    "file_path = \"drugbank_partial.xml\"\n",
    "\n",
    "with open(file_path, \"r\", encoding=\"utf-8\") as file:\n",
    "    data_dict = xmltodict.parse(file.read())\n",
    "\n",
    "drugs = data_dict[\"drugbank\"][\"drug\"]\n",
    "\n",
    "def find_data():\n",
    "    records = []\n",
    "    drug_id = None\n",
    "    for drug in drugs:\n",
    "        drug_id = \n",
    "        record = {\n",
    "            \"DrugBank ID\": \n",
    "            \"Name\": \n",
    "            \"Type\": \n",
    "            \"Description\": \n",
    "            \"Dosage Form\": \n",
    "            \"Indication\": \n",
    "            \"Mechanism of Action\": \n",
    "            \"Food Interactions\": \n",
    "        }\n",
    "        records.append(record)\n",
    "    return records"
   ]
  },
  {
   "cell_type": "code",
   "execution_count": null,
   "id": "4fc48165",
   "metadata": {},
   "outputs": [],
   "source": []
  },
  {
   "cell_type": "code",
   "execution_count": null,
   "id": "2771fafa",
   "metadata": {},
   "outputs": [],
   "source": []
  }
 ],
 "metadata": {
  "kernelspec": {
   "display_name": "Python 3 (ipykernel)",
   "language": "python",
   "name": "python3"
  },
  "language_info": {
   "codemirror_mode": {
    "name": "ipython",
    "version": 3
   },
   "file_extension": ".py",
   "mimetype": "text/x-python",
   "name": "python",
   "nbconvert_exporter": "python",
   "pygments_lexer": "ipython3",
   "version": "3.11.2"
  }
 },
 "nbformat": 4,
 "nbformat_minor": 5
}
