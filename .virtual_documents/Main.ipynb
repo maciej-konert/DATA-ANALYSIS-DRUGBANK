


get_ipython().getoutput("pip install pandas")
get_ipython().getoutput("pip install xmltodict")


import pandas as pd
import xmltodict

file_path = "drugbank_partial.xml"

with open(file_path, "r", encoding="utf-8") as file:
    data_dict = xmltodict.parse(file.read())

drugs = data_dict["drugbank"]["drug"]

def find_data():
    records = []
    drug_id = None
    for drug in drugs:
        drug_id = None
        if isinstance(drug['drugbank-id'], list):
            for item_id in drug['drugbank-id']:
                if isinstance(item_id, dict) and item_id.get( 
        record = {
            "DrugBank ID": 
            "Name": 
            "Type": 
            "Description": 
            "Dosage Form": 
            "Indication": 
            "Mechanism of Action": 
            "Food Interactions": 
        }
        records.append(record)
    return records









