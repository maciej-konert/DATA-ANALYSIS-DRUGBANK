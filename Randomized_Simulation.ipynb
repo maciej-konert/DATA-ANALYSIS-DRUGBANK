{
 "cells": [
  {
   "cell_type": "code",
   "id": "initial_id",
   "metadata": {
    "collapsed": true,
    "ExecuteTime": {
     "end_time": "2025-02-17T14:24:48.099080Z",
     "start_time": "2025-02-17T14:24:43.926910Z"
    }
   },
   "source": [
    "import xmltodict\n",
    "import random\n",
    "\n",
    "file_path = \"drugbank_partial.xml\"\n",
    "output_file = \"drugbank_partial_and_generated.xml\"\n",
    "def generate_random_drugs(file_path, output_file, no_drugs):\n",
    "    with open(file_path, \"r\", encoding=\"utf-8\") as file:\n",
    "        data_dict = xmltodict.parse(file.read())\n",
    "\n",
    "    drugs = data_dict[\"drugbank\"][\"drug\"]\n",
    "\n",
    "    with open(output_file, \"w\", encoding=\"utf-8\") as file:\n",
    "        file.write('<?xml version=\"1.0\" encoding=\"utf-8\"?>\\n')\n",
    "        file.write('<drugbank>\\n')\n",
    "\n",
    "        for drug in drugs:\n",
    "            file.write(xmltodict.unparse({\"drug\": drug}, pretty=True, full_document=False))\n",
    "\n",
    "        start_id = 101\n",
    "        for i in range(no_drugs):\n",
    "            base_drug = random.choice(drugs)\n",
    "            synthetic_drug = base_drug.copy()\n",
    "            synthetic_drug[\"drugbank-id\"] = f\"DB{str(start_id + i).zfill(5)}\"\n",
    "\n",
    "            file.write(xmltodict.unparse({\"drug\": synthetic_drug}, pretty=True, full_document=False))\n",
    "\n",
    "        file.write('\\n')\n",
    "        file.write('</drugbank>\\n')\n",
    "        print(f\"Database saved to {output_file}\")\n",
    "\n",
    "generate_random_drugs(file_path, output_file, 105)\n"
   ],
   "outputs": [
    {
     "name": "stdout",
     "output_type": "stream",
     "text": [
      "Database saved to drugbank_partial_and_generated.xml\n"
     ]
    }
   ],
   "execution_count": 3
  },
  {
   "metadata": {
    "ExecuteTime": {
     "end_time": "2025-02-17T14:24:48.119149Z",
     "start_time": "2025-02-17T14:24:48.116641Z"
    }
   },
   "cell_type": "code",
   "source": "",
   "id": "366c513a2f00bbba",
   "outputs": [],
   "execution_count": null
  }
 ],
 "metadata": {
  "kernelspec": {
   "display_name": "Python 3",
   "language": "python",
   "name": "python3"
  },
  "language_info": {
   "codemirror_mode": {
    "name": "ipython",
    "version": 2
   },
   "file_extension": ".py",
   "mimetype": "text/x-python",
   "name": "python",
   "nbconvert_exporter": "python",
   "pygments_lexer": "ipython2",
   "version": "2.7.6"
  }
 },
 "nbformat": 4,
 "nbformat_minor": 5
}
