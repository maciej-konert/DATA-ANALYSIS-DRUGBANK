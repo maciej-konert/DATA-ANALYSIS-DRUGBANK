{
 "cells": [
  {
   "cell_type": "markdown",
   "id": "d28c35fd",
   "metadata": {},
   "source": [
    "Task 1) Create a data frame that contains the following information for each drug: unique\n",
    "drug identifier in the DrugBank database, name of the drug, its type, description, form in which the drug is given\n",
    "occurs, indications, mechanism of action and information with which foods the drug is eaten\n",
    "interacts. \\\n",
    "Solution: There can be many drugbank-id's so we will take the one that is marked as primary."
   ]
  },
  {
   "cell_type": "code",
   "execution_count": 1,
   "id": "0691d4f3",
   "metadata": {},
   "outputs": [
    {
     "name": "stdout",
     "output_type": "stream",
     "text": [
      "Requirement already satisfied: pandas in ./venv_drug/lib/python3.11/site-packages (2.2.3)\n",
      "Requirement already satisfied: numpy>=1.23.2 in ./venv_drug/lib/python3.11/site-packages (from pandas) (2.2.2)\n",
      "Requirement already satisfied: python-dateutil>=2.8.2 in ./venv_drug/lib/python3.11/site-packages (from pandas) (2.9.0.post0)\n",
      "Requirement already satisfied: pytz>=2020.1 in ./venv_drug/lib/python3.11/site-packages (from pandas) (2025.1)\n",
      "Requirement already satisfied: tzdata>=2022.7 in ./venv_drug/lib/python3.11/site-packages (from pandas) (2025.1)\n",
      "Requirement already satisfied: six>=1.5 in ./venv_drug/lib/python3.11/site-packages (from python-dateutil>=2.8.2->pandas) (1.17.0)\n",
      "Requirement already satisfied: xmltodict in ./venv_drug/lib/python3.11/site-packages (0.14.2)\n"
     ]
    }
   ],
   "source": [
    "!pip install pandas\n",
    "!pip install xmltodict"
   ]
  },
  {
   "cell_type": "code",
   "id": "2e6074e4",
   "metadata": {
    "ExecuteTime": {
     "end_time": "2025-02-13T12:07:54.353565Z",
     "start_time": "2025-02-13T12:07:52.826488Z"
    }
   },
   "source": [
    "import pandas as pd\n",
    "import xmltodict\n",
    "\n",
    "file_path = \"drugbank_partial.xml\"\n",
    "\n",
    "with open(file_path, \"r\", encoding=\"utf-8\") as file:\n",
    "    data_dict = xmltodict.parse(file.read())\n",
    "\n",
    "drugs = data_dict[\"drugbank\"][\"drug\"]\n",
    "\n",
    "def get_id(drug):\n",
    "    drug_id = None\n",
    "    if isinstance(drug['drugbank-id'], list):\n",
    "        for item in drug['drugbank-id']:\n",
    "            if isinstance(item, dict) and item.get('@primary') == 'true':\n",
    "                drug_id = item.get('#text')\n",
    "                break\n",
    "    elif isinstance(drug['drugbank-id'], dict):\n",
    "        if drug['drugbank-id'].get('@primary') == 'true':\n",
    "            drug_id = drug['drugbank-id'].get('#text')\n",
    "    return drug_id\n",
    "\n",
    "def get_name(drug):\n",
    "    return drug.get(\"name\")\n",
    "\n",
    "def get_type(drug):\n",
    "    return drug.get(\"@type\")\n",
    "\n",
    "def get_description(drug):\n",
    "    return drug.get(\"description\")\n",
    "\n",
    "def get_dosage_form(drug):\n",
    "    return drug.get(\"state\")\n",
    "\n",
    "def get_indication(drug):\n",
    "    return drug.get(\"indication\")\n",
    "\n",
    "def get_mechanism_of_action(drug):\n",
    "    return drug.get(\"mechanism-of-action\")\n",
    "\n",
    "def get_food_interactions(drug):\n",
    "    interactions = []\n",
    "    if not drug.get(\"food-interactions\"):\n",
    "        return interactions\n",
    "    for interaction in drug.get(\"food-interactions\").values():\n",
    "        interactions.append(interaction)\n",
    "    return interactions\n",
    "\n",
    "def find_data():\n",
    "    records = []\n",
    "    for drug in drugs:\n",
    "        record = {\n",
    "            \"DrugBank ID\": get_id(drug),\n",
    "            \"Name\": get_name(drug),\n",
    "            \"Type\": get_type(drug),\n",
    "            \"Description\": get_description(drug),\n",
    "            \"Dosage Form\": get_dosage_form(drug),\n",
    "            \"Indication\": get_indication(drug),\n",
    "            \"Mechanism of Action\": get_mechanism_of_action(drug),\n",
    "            \"Food Interactions\": get_food_interactions(drug)\n",
    "        }\n",
    "        records.append(record)\n",
    "    return records\n",
    "\n",
    "filtered_df = pd.DataFrame(find_data())\n",
    "\n",
    "print(filtered_df)\n"
   ],
   "outputs": [
    {
     "name": "stdout",
     "output_type": "stream",
     "text": [
      "   DrugBank ID                 Name            Type  \\\n",
      "0      DB00001            Lepirudin         biotech   \n",
      "1      DB00002            Cetuximab         biotech   \n",
      "2      DB00003         Dornase alfa         biotech   \n",
      "3      DB00004  Denileukin diftitox         biotech   \n",
      "4      DB00005           Etanercept         biotech   \n",
      "..         ...                  ...             ...   \n",
      "95     DB00104           Octreotide         biotech   \n",
      "96     DB00105   Interferon alfa-2b         biotech   \n",
      "97     DB00106             Abarelix  small molecule   \n",
      "98     DB00107             Oxytocin         biotech   \n",
      "99     DB00108          Natalizumab         biotech   \n",
      "\n",
      "                                          Description Dosage Form  \\\n",
      "0   Lepirudin is a recombinant hirudin formed by 6...       solid   \n",
      "1   Cetuximab is a recombinant chimeric human/mous...      liquid   \n",
      "2   Dornase alfa is a biosynthetic form of human d...      liquid   \n",
      "3   A recombinant DNA-derived cytotoxic protein co...      liquid   \n",
      "4   Dimeric fusion protein consisting of the extra...      liquid   \n",
      "..                                                ...         ...   \n",
      "95  Acromegaly is a disorder caused by excess grow...       solid   \n",
      "96  Interferon alpha 2b (human leukocyte clone hif...      liquid   \n",
      "97  Synthetic decapeptide antagonist to gonadotrop...       solid   \n",
      "98  Sir Henry H. Dale first identified oxytocin an...      liquid   \n",
      "99  Natalizumab is a recombinant humanized IgG4κ m...      liquid   \n",
      "\n",
      "                                           Indication  \\\n",
      "0   Lepirudin is indicated for anticoagulation in ...   \n",
      "1   Cetuximab indicated for the treatment of local...   \n",
      "2   Used as adjunct therapy in the treatment of cy...   \n",
      "3          For treatment of cutaneous T-cell lymphoma   \n",
      "4   Etanercept is indicated for the treatment of m...   \n",
      "..                                                ...   \n",
      "95  Octreotide by injection is used for the treatm...   \n",
      "96  For the treatment of hairy cell leukemia, mali...   \n",
      "97  For palliative treatment of advanced prostate ...   \n",
      "98  Administration of exogenous oxytocin is indica...   \n",
      "99  Natalizumab is indicated as monotherapy for th...   \n",
      "\n",
      "                                  Mechanism of Action  \\\n",
      "0   Lepirudin is a direct thrombin inhibitor used ...   \n",
      "1   The epidermal growth factor receptor (EGFR) is...   \n",
      "2   Dornase alfa is a biosynthetic form of human D...   \n",
      "3   Denileukin diftitox binds to the high-affinity...   \n",
      "4   There are two distinct receptors for TNF (TNFR...   \n",
      "..                                                ...   \n",
      "95  Octreotide binds to somatostatin receptors cou...   \n",
      "96  Interferon alpha binds to type I interferon re...   \n",
      "97  Abarelix binds to the gonadotropin releasing h...   \n",
      "98  Oxytocin plays a vital role in labour and deli...   \n",
      "99  Integrins are transmembrane receptors and adhe...   \n",
      "\n",
      "                                    Food Interactions  \n",
      "0   [Avoid herbs and supplements with anticoagulan...  \n",
      "1                                                  []  \n",
      "2                                                  []  \n",
      "3                                                  []  \n",
      "4                                                  []  \n",
      "..                                                ...  \n",
      "95  [[Take on an empty stomach. The oral capsules ...  \n",
      "96                                   [Avoid alcohol.]  \n",
      "97                                                 []  \n",
      "98                                                 []  \n",
      "99                                                 []  \n",
      "\n",
      "[100 rows x 8 columns]\n"
     ]
    }
   ],
   "execution_count": 3
  },
  {
   "metadata": {},
   "cell_type": "markdown",
   "source": [
    "Task 2) Create a data frame that allows you to search for information about DrugBank ID\n",
    "all synonyms under which a given drug appears. Write a function that for the given\n",
    "DrugBank ID will create and draw a synonym graph using the NetworkX library. You should\n",
    "ensure the readability of the generated drawing. \\\n",
    "Solution: The selected drug will be in the middle of the graph and its synonyms will be connected to it."
   ],
   "id": "dc562a41de5ba068"
  },
  {
   "metadata": {
    "ExecuteTime": {
     "end_time": "2025-02-13T12:44:32.590648Z",
     "start_time": "2025-02-13T12:44:21.433817Z"
    }
   },
   "cell_type": "code",
   "source": [
    "!pip install networkx\n",
    "!pip install matplotlib"
   ],
   "id": "872a7c641f972b35",
   "outputs": [
    {
     "name": "stdout",
     "output_type": "stream",
     "text": [
      "Collecting networkx\r\n",
      "  Downloading networkx-3.4.2-py3-none-any.whl (1.7 MB)\r\n",
      "\u001B[2K     \u001B[90m━━━━━━━━━━━━━━━━━━━━━━━━━━━━━━━━━━━━━━━━\u001B[0m \u001B[32m1.7/1.7 MB\u001B[0m \u001B[31m7.3 MB/s\u001B[0m eta \u001B[36m0:00:00\u001B[0m00:01\u001B[0m00:01\u001B[0m\r\n",
      "\u001B[?25hInstalling collected packages: networkx\r\n",
      "Successfully installed networkx-3.4.2\r\n",
      "Collecting matplotlib\r\n",
      "  Downloading matplotlib-3.10.0-cp311-cp311-manylinux_2_17_x86_64.manylinux2014_x86_64.whl (8.6 MB)\r\n",
      "\u001B[2K     \u001B[90m━━━━━━━━━━━━━━━━━━━━━━━━━━━━━━━━━━━━━━━━\u001B[0m \u001B[32m8.6/8.6 MB\u001B[0m \u001B[31m17.2 MB/s\u001B[0m eta \u001B[36m0:00:00\u001B[0m00:01\u001B[0m00:01\u001B[0m\r\n",
      "\u001B[?25hCollecting contourpy>=1.0.1\r\n",
      "  Downloading contourpy-1.3.1-cp311-cp311-manylinux_2_17_x86_64.manylinux2014_x86_64.whl (326 kB)\r\n",
      "\u001B[2K     \u001B[90m━━━━━━━━━━━━━━━━━━━━━━━━━━━━━━━━━━━━━━━\u001B[0m \u001B[32m326.2/326.2 kB\u001B[0m \u001B[31m7.3 MB/s\u001B[0m eta \u001B[36m0:00:00\u001B[0ma \u001B[36m0:00:01\u001B[0m\r\n",
      "\u001B[?25hCollecting cycler>=0.10\r\n",
      "  Downloading cycler-0.12.1-py3-none-any.whl (8.3 kB)\r\n",
      "Collecting fonttools>=4.22.0\r\n",
      "  Downloading fonttools-4.56.0-cp311-cp311-manylinux_2_17_x86_64.manylinux2014_x86_64.whl (4.9 MB)\r\n",
      "\u001B[2K     \u001B[90m━━━━━━━━━━━━━━━━━━━━━━━━━━━━━━━━━━━━━━━━\u001B[0m \u001B[32m4.9/4.9 MB\u001B[0m \u001B[31m21.4 MB/s\u001B[0m eta \u001B[36m0:00:00\u001B[0m00:01\u001B[0m00:01\u001B[0m\r\n",
      "\u001B[?25hCollecting kiwisolver>=1.3.1\r\n",
      "  Downloading kiwisolver-1.4.8-cp311-cp311-manylinux_2_17_x86_64.manylinux2014_x86_64.whl (1.4 MB)\r\n",
      "\u001B[2K     \u001B[90m━━━━━━━━━━━━━━━━━━━━━━━━━━━━━━━━━━━━━━━━\u001B[0m \u001B[32m1.4/1.4 MB\u001B[0m \u001B[31m16.7 MB/s\u001B[0m eta \u001B[36m0:00:00\u001B[0m00:01\u001B[0m00:01\u001B[0m\r\n",
      "\u001B[?25hRequirement already satisfied: numpy>=1.23 in ./venv_drug/lib/python3.11/site-packages (from matplotlib) (2.2.2)\r\n",
      "Requirement already satisfied: packaging>=20.0 in ./venv_drug/lib/python3.11/site-packages (from matplotlib) (24.2)\r\n",
      "Collecting pillow>=8\r\n",
      "  Downloading pillow-11.1.0-cp311-cp311-manylinux_2_28_x86_64.whl (4.5 MB)\r\n",
      "\u001B[2K     \u001B[90m━━━━━━━━━━━━━━━━━━━━━━━━━━━━━━━━━━━━━━━━\u001B[0m \u001B[32m4.5/4.5 MB\u001B[0m \u001B[31m22.4 MB/s\u001B[0m eta \u001B[36m0:00:00\u001B[0m00:01\u001B[0m00:01\u001B[0m\r\n",
      "\u001B[?25hCollecting pyparsing>=2.3.1\r\n",
      "  Downloading pyparsing-3.2.1-py3-none-any.whl (107 kB)\r\n",
      "\u001B[2K     \u001B[90m━━━━━━━━━━━━━━━━━━━━━━━━━━━━━━━━━━━━━━━\u001B[0m \u001B[32m107.7/107.7 kB\u001B[0m \u001B[31m3.7 MB/s\u001B[0m eta \u001B[36m0:00:00\u001B[0m\r\n",
      "\u001B[?25hRequirement already satisfied: python-dateutil>=2.7 in ./venv_drug/lib/python3.11/site-packages (from matplotlib) (2.9.0.post0)\r\n",
      "Requirement already satisfied: six>=1.5 in ./venv_drug/lib/python3.11/site-packages (from python-dateutil>=2.7->matplotlib) (1.17.0)\r\n",
      "Installing collected packages: pyparsing, pillow, kiwisolver, fonttools, cycler, contourpy, matplotlib\r\n",
      "Successfully installed contourpy-1.3.1 cycler-0.12.1 fonttools-4.56.0 kiwisolver-1.4.8 matplotlib-3.10.0 pillow-11.1.0 pyparsing-3.2.1\r\n"
     ]
    }
   ],
   "execution_count": 12
  },
  {
   "metadata": {
    "ExecuteTime": {
     "end_time": "2025-02-13T12:55:24.192967Z",
     "start_time": "2025-02-13T12:55:24.094987Z"
    }
   },
   "cell_type": "code",
   "source": [
    "import networkx as nx\n",
    "import matplotlib.pyplot as plt\n",
    "\n",
    "def get_synonyms(drug):\n",
    "    synonyms = []\n",
    "    if \"synonyms\" in drug and drug[\"synonyms\"]:\n",
    "        syn_data = drug[\"synonyms\"]\n",
    "        if \"synonym\" in syn_data:\n",
    "            syns = syn_data[\"synonym\"]\n",
    "            if isinstance(syns, list):\n",
    "                for syn in syns:\n",
    "                    if isinstance(syn, dict):\n",
    "                        text = syn.get(\"#text\", \"\").strip()\n",
    "                        if text:\n",
    "                            synonyms.append(text)\n",
    "                    elif isinstance(syn, str):\n",
    "                        synonyms.append(syn.strip())\n",
    "            elif isinstance(syns, dict):\n",
    "                text = syns.get(\"#text\", \"\").strip()\n",
    "                if text:\n",
    "                    synonyms.append(text)\n",
    "            elif isinstance(syns, str):\n",
    "                synonyms.append(syns.strip())\n",
    "    return synonyms\n",
    "\n",
    "def create_synonyms_df():\n",
    "    records = []\n",
    "    for drug in drugs:\n",
    "        drug_id = get_id(drug)\n",
    "        syns = get_synonyms(drug)\n",
    "        records.append({\"DrugBank ID\": drug_id, \"Synonyms\": syns})\n",
    "    return pd.DataFrame(records)\n",
    "\n",
    "\n",
    "# Create the DataFrame of synonyms\n",
    "synonyms_df = create_synonyms_df()\n",
    "print(\"Synonyms DataFrame:\")\n",
    "print(synonyms_df)\n",
    "\n",
    "def draw_synonym_graph(drugbank_id, synonyms_df):\n",
    "    record = synonyms_df[synonyms_df[\"DrugBank ID\"] == drugbank_id]\n",
    "    if record.empty:\n",
    "        print(f\"No drug found with ID {drugbank_id}\")\n",
    "        return\n",
    "    synonyms = record.iloc[0][\"Synonyms\"]\n",
    "\n",
    "    G = nx.Graph()\n",
    "    G.add_node(drugbank_id)\n",
    "    for syn in synonyms:\n",
    "        G.add_node(syn)\n",
    "        G.add_edge(drugbank_id, syn)\n",
    "\n",
    "    pos = nx.spring_layout(G)   # Creates the star-like layout\n",
    "    plt.figure(figsize=(8, 6))\n",
    "    nx.draw(G, pos, with_labels=True, node_color=\"blue\", node_size=3000, font_size=10)\n",
    "    plt.title(f\"Synonym Graph for Drug {drugbank_id}\")\n",
    "    plt.show()\n",
    "\n",
    "draw_synonym_graph(\"DB00001\", synonyms_df)"
   ],
   "id": "4fc48165",
   "outputs": [
    {
     "name": "stdout",
     "output_type": "stream",
     "text": [
      "Synonyms DataFrame:\n",
      "   DrugBank ID                                           Synonyms\n",
      "0      DB00001  [[Leu1, Thr2]-63-desulfohirudin, Desulfatohiru...\n",
      "1      DB00002                [Cetuximab, Cétuximab, Cetuximabum]\n",
      "2      DB00003  [Deoxyribonuclease (human clone 18-1 protein m...\n",
      "3      DB00004  [Denileukin, Denileukin diftitox, Interleukin-...\n",
      "4      DB00005  [Etanercept, etanercept-szzs, etanercept-ykro,...\n",
      "..         ...                                                ...\n",
      "95     DB00104   [Octreotida, Octreotide, Octreotidum, Octrotide]\n",
      "96     DB00105  [Interferon alfa-2b, Interferon alfa-2b (recom...\n",
      "97     DB00106                                         [Abarelix]\n",
      "98     DB00107                              [Oxitocina, Oxytocin]\n",
      "99     DB00108  [Anti-alpha4 integrin, Anti-VLA4, IMMUNOGLOBUL...\n",
      "\n",
      "[100 rows x 2 columns]\n"
     ]
    },
    {
     "data": {
      "text/plain": [
       "<Figure size 800x600 with 1 Axes>"
      ],
      "image/png": "[encoded data removed]"
     },
     "metadata": {},
     "output_type": "display_data"
    }
   ],
   "execution_count": 27
  },
  {
   "metadata": {},
   "cell_type": "code",
   "outputs": [],
   "execution_count": null,
   "source": "",
   "id": "9573e7122ca7517f"
  }
 ],
 "metadata": {
  "kernelspec": {
   "display_name": "Python 3 (ipykernel)",
   "language": "python",
   "name": "python3"
  },
  "language_info": {
   "codemirror_mode": {
    "name": "ipython",
    "version": 3
   },
   "file_extension": ".py",
   "mimetype": "text/x-python",
   "name": "python",
   "nbconvert_exporter": "python",
   "pygments_lexer": "ipython3",
   "version": "3.11.2"
  }
 },
 "nbformat": 4,
 "nbformat_minor": 5
}
