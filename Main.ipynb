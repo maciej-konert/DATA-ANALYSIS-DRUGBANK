{
 "cells": [
  {
   "cell_type": "markdown",
   "id": "d28c35fd",
   "metadata": {},
   "source": [
    "Zadanie 1)\n",
    "Importujemy biblioteki i po prostu czytamy dane."
   ]
  },
  {
   "cell_type": "code",
   "execution_count": 1,
   "id": "0691d4f3",
   "metadata": {},
   "outputs": [
    {
     "name": "stdout",
     "output_type": "stream",
     "text": [
      "Requirement already satisfied: pandas in ./venv_drug/lib/python3.11/site-packages (2.2.3)\n",
      "Requirement already satisfied: numpy>=1.23.2 in ./venv_drug/lib/python3.11/site-packages (from pandas) (2.2.2)\n",
      "Requirement already satisfied: python-dateutil>=2.8.2 in ./venv_drug/lib/python3.11/site-packages (from pandas) (2.9.0.post0)\n",
      "Requirement already satisfied: pytz>=2020.1 in ./venv_drug/lib/python3.11/site-packages (from pandas) (2025.1)\n",
      "Requirement already satisfied: tzdata>=2022.7 in ./venv_drug/lib/python3.11/site-packages (from pandas) (2025.1)\n",
      "Requirement already satisfied: six>=1.5 in ./venv_drug/lib/python3.11/site-packages (from python-dateutil>=2.8.2->pandas) (1.17.0)\n",
      "Requirement already satisfied: xmltodict in ./venv_drug/lib/python3.11/site-packages (0.14.2)\n"
     ]
    }
   ],
   "source": [
    "!pip install pandas\n",
    "!pip install xmltodict"
   ]
  },
  {
   "cell_type": "code",
   "id": "2e6074e4",
   "metadata": {
    "ExecuteTime": {
     "end_time": "2025-02-13T03:16:30.622141Z",
     "start_time": "2025-02-13T03:16:29.088643Z"
    }
   },
   "source": [
    "import pandas as pd\n",
    "import xmltodict\n",
    "\n",
    "file_path = \"drugbank_partial.xml\"\n",
    "\n",
    "with open(file_path, \"r\", encoding=\"utf-8\") as file:\n",
    "    data_dict = xmltodict.parse(file.read())\n",
    "\n",
    "drugs = data_dict[\"drugbank\"][\"drug\"]\n",
    "\n",
    "def get_id(drug):\n",
    "    drug_id = None\n",
    "    if isinstance(drug['drugbank-id'], list):\n",
    "        for item in drug['drugbank-id']:\n",
    "            if isinstance(item, dict) and item.get('@primary') == 'true':\n",
    "                drug_id = item.get('#text')\n",
    "                break\n",
    "    elif isinstance(drug['drugbank-id'], dict):\n",
    "        if drug['drugbank-id'].get('@primary') == 'true':\n",
    "            drug_id = drug['drugbank-id'].get('#text')\n",
    "    return drug_id\n",
    "\n",
    "def get_name(drug):\n",
    "    return drug.get(\"name\")\n",
    "\n",
    "def get_type(drug):\n",
    "    return drug.get(\"@type\")\n",
    "\n",
    "def get_description(drug):\n",
    "    return drug.get(\"description\")\n",
    "\n",
    "def get_dosage_form(drug):\n",
    "    return drug.get(\"state\")\n",
    "\n",
    "def get_indication(drug):\n",
    "    return drug.get(\"indication\")\n",
    "\n",
    "def get_mechanism_of_action(drug):\n",
    "    return drug.get(\"mechanism-of-action\")\n",
    "\n",
    "def get_food_interactions(drug):\n",
    "    interactions = []\n",
    "    if not drug.get(\"food-interactions\"):\n",
    "        return interactions\n",
    "    for interaction in drug.get(\"food-interactions\").values():\n",
    "        interactions.append(interaction)\n",
    "    return interactions\n",
    "\n",
    "def find_data():\n",
    "    records = []\n",
    "    for drug in drugs:\n",
    "        record = {\n",
    "            \"DrugBank ID\": get_id(drug),\n",
    "            \"Name\": get_name(drug),\n",
    "            \"Type\": get_type(drug),\n",
    "            \"Description\": get_description(drug),\n",
    "            \"Dosage Form\": get_dosage_form(drug),\n",
    "            \"Indication\": get_indication(drug),\n",
    "            \"Mechanism of Action\": get_mechanism_of_action(drug),\n",
    "            \"Food Interactions\": get_food_interactions(drug)\n",
    "        }\n",
    "        records.append(record)\n",
    "    return records\n",
    "\n",
    "# Tworzenie ramki danych Pandas\n",
    "filtered_df = pd.DataFrame(find_data())\n",
    "\n",
    "# Wyświetlenie kilku pierwszych wierszy\n",
    "print(filtered_df)\n"
   ],
   "outputs": [
    {
     "name": "stdout",
     "output_type": "stream",
     "text": [
      "   DrugBank ID                 Name            Type  \\\n",
      "0      DB00001            Lepirudin         biotech   \n",
      "1      DB00002            Cetuximab         biotech   \n",
      "2      DB00003         Dornase alfa         biotech   \n",
      "3      DB00004  Denileukin diftitox         biotech   \n",
      "4      DB00005           Etanercept         biotech   \n",
      "..         ...                  ...             ...   \n",
      "95     DB00104           Octreotide         biotech   \n",
      "96     DB00105   Interferon alfa-2b         biotech   \n",
      "97     DB00106             Abarelix  small molecule   \n",
      "98     DB00107             Oxytocin         biotech   \n",
      "99     DB00108          Natalizumab         biotech   \n",
      "\n",
      "                                          Description Dosage Form  \\\n",
      "0   Lepirudin is a recombinant hirudin formed by 6...       solid   \n",
      "1   Cetuximab is a recombinant chimeric human/mous...      liquid   \n",
      "2   Dornase alfa is a biosynthetic form of human d...      liquid   \n",
      "3   A recombinant DNA-derived cytotoxic protein co...      liquid   \n",
      "4   Dimeric fusion protein consisting of the extra...      liquid   \n",
      "..                                                ...         ...   \n",
      "95  Acromegaly is a disorder caused by excess grow...       solid   \n",
      "96  Interferon alpha 2b (human leukocyte clone hif...      liquid   \n",
      "97  Synthetic decapeptide antagonist to gonadotrop...       solid   \n",
      "98  Sir Henry H. Dale first identified oxytocin an...      liquid   \n",
      "99  Natalizumab is a recombinant humanized IgG4κ m...      liquid   \n",
      "\n",
      "                                           Indication  \\\n",
      "0   Lepirudin is indicated for anticoagulation in ...   \n",
      "1   Cetuximab indicated for the treatment of local...   \n",
      "2   Used as adjunct therapy in the treatment of cy...   \n",
      "3          For treatment of cutaneous T-cell lymphoma   \n",
      "4   Etanercept is indicated for the treatment of m...   \n",
      "..                                                ...   \n",
      "95  Octreotide by injection is used for the treatm...   \n",
      "96  For the treatment of hairy cell leukemia, mali...   \n",
      "97  For palliative treatment of advanced prostate ...   \n",
      "98  Administration of exogenous oxytocin is indica...   \n",
      "99  Natalizumab is indicated as monotherapy for th...   \n",
      "\n",
      "                                  Mechanism of Action  \\\n",
      "0   Lepirudin is a direct thrombin inhibitor used ...   \n",
      "1   The epidermal growth factor receptor (EGFR) is...   \n",
      "2   Dornase alfa is a biosynthetic form of human D...   \n",
      "3   Denileukin diftitox binds to the high-affinity...   \n",
      "4   There are two distinct receptors for TNF (TNFR...   \n",
      "..                                                ...   \n",
      "95  Octreotide binds to somatostatin receptors cou...   \n",
      "96  Interferon alpha binds to type I interferon re...   \n",
      "97  Abarelix binds to the gonadotropin releasing h...   \n",
      "98  Oxytocin plays a vital role in labour and deli...   \n",
      "99  Integrins are transmembrane receptors and adhe...   \n",
      "\n",
      "                                    Food Interactions  \n",
      "0   [Avoid herbs and supplements with anticoagulan...  \n",
      "1                                                  []  \n",
      "2                                                  []  \n",
      "3                                                  []  \n",
      "4                                                  []  \n",
      "..                                                ...  \n",
      "95  [[Take on an empty stomach. The oral capsules ...  \n",
      "96                                   [Avoid alcohol.]  \n",
      "97                                                 []  \n",
      "98                                                 []  \n",
      "99                                                 []  \n",
      "\n",
      "[100 rows x 8 columns]\n"
     ]
    }
   ],
   "execution_count": 17
  },
  {
   "cell_type": "code",
   "execution_count": null,
   "id": "2542fc60-4a52-4b71-a068-1abcd83f238f",
   "metadata": {},
   "outputs": [],
   "source": []
  },
  {
   "cell_type": "code",
   "execution_count": null,
   "id": "4fc48165",
   "metadata": {},
   "outputs": [],
   "source": []
  },
  {
   "cell_type": "code",
   "execution_count": null,
   "id": "2771fafa",
   "metadata": {},
   "outputs": [],
   "source": []
  }
 ],
 "metadata": {
  "kernelspec": {
   "display_name": "Python 3 (ipykernel)",
   "language": "python",
   "name": "python3"
  },
  "language_info": {
   "codemirror_mode": {
    "name": "ipython",
    "version": 3
   },
   "file_extension": ".py",
   "mimetype": "text/x-python",
   "name": "python",
   "nbconvert_exporter": "python",
   "pygments_lexer": "ipython3",
   "version": "3.11.2"
  }
 },
 "nbformat": 4,
 "nbformat_minor": 5
}
